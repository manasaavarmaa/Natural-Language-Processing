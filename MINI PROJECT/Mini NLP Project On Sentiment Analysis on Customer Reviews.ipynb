{
 "cells": [
  {
   "cell_type": "code",
   "execution_count": 8,
   "id": "312f90fc-a84a-44f9-b614-4683cba99af1",
   "metadata": {},
   "outputs": [
    {
     "name": "stdout",
     "output_type": "stream",
     "text": [
      "Dataset loaded with 98 records.\n",
      "Dataset columns: Index(['Text, Sentiment, Source, Date/Time, User ID, Location, Confidence Score'], dtype='object')\n",
      "Updated columns after splitting: Index(['Text', 'Sentiment', 'Source', 'Date/Time', 'User ID', 'Location',\n",
      "       'Confidence Score'],\n",
      "      dtype='object')\n",
      "Dataset after dropping missing values: 96 records.\n",
      "Text cleaning completed.\n",
      "Data split into train and test sets. Training on 76 samples.\n",
      "Model training completed.\n",
      "Accuracy: 0.85\n",
      "Classification Report:\n",
      "               precision    recall  f1-score   support\n",
      "\n",
      "    Negative       0.62      1.00      0.77         5\n",
      "    Positive       1.00      0.80      0.89        15\n",
      "\n",
      "    accuracy                           0.85        20\n",
      "   macro avg       0.81      0.90      0.83        20\n",
      "weighted avg       0.91      0.85      0.86        20\n",
      "\n"
     ]
    },
    {
     "name": "stderr",
     "output_type": "stream",
     "text": [
      "[nltk_data] Downloading package stopwords to\n",
      "[nltk_data]     /Users/varikuntlasaimanoj/nltk_data...\n",
      "[nltk_data]   Package stopwords is already up-to-date!\n",
      "[nltk_data] Downloading package wordnet to\n",
      "[nltk_data]     /Users/varikuntlasaimanoj/nltk_data...\n",
      "[nltk_data]   Package wordnet is already up-to-date!\n"
     ]
    },
    {
     "data": {
      "image/png": "[encoded data removed]",
      "text/plain": [
       "<Figure size 800x600 with 2 Axes>"
      ]
     },
     "metadata": {},
     "output_type": "display_data"
    }
   ],
   "source": [
    "# Import necessary libraries\n",
    "import pandas as pd\n",
    "import numpy as np\n",
    "import re\n",
    "import nltk\n",
    "from sklearn.model_selection import train_test_split\n",
    "from sklearn.feature_extraction.text import TfidfVectorizer\n",
    "from sklearn.linear_model import LogisticRegression\n",
    "from sklearn.metrics import accuracy_score, classification_report, confusion_matrix\n",
    "import seaborn as sns\n",
    "import matplotlib.pyplot as plt\n",
    "\n",
    "# Download NLTK resources\n",
    "nltk.download('stopwords')\n",
    "nltk.download('wordnet')\n",
    "from nltk.corpus import stopwords\n",
    "from nltk.stem import WordNetLemmatizer\n",
    "\n",
    "# Step 1: Load the dataset with the correct delimiter\n",
    "df = pd.read_csv('sentiment-analysis.csv', delimiter=',')\n",
    "print(f\"Dataset loaded with {len(df)} records.\")\n",
    "print(\"Dataset columns:\", df.columns)\n",
    "\n",
    "# Step 2: Split combined column if necessary\n",
    "if len(df.columns) == 1:\n",
    "    df = df['Text, Sentiment, Source, Date/Time, User ID, Location, Confidence Score'].str.split(',', expand=True)\n",
    "    df.columns = ['Text', 'Sentiment', 'Source', 'Date/Time', 'User ID', 'Location', 'Confidence Score']\n",
    "\n",
    "print(\"Updated columns after splitting:\", df.columns)\n",
    "\n",
    "# Step 3: Handle Missing Values in Target Column\n",
    "# Drop rows where Sentiment (target column) is NaN\n",
    "df = df.dropna(subset=['Sentiment'])\n",
    "print(f\"Dataset after dropping missing values: {len(df)} records.\")\n",
    "\n",
    "# Step 4: Data Cleaning\n",
    "lemmatizer = WordNetLemmatizer()\n",
    "stop_words = set(stopwords.words('english'))\n",
    "\n",
    "def clean_text(text):\n",
    "    text = re.sub(r'[^a-zA-Z\\s]', '', str(text)) \n",
    "    text = text.lower()  # Convert to lowercase\n",
    "    words = [word for word in text.split() if word not in stop_words] \n",
    "    words = [lemmatizer.lemmatize(word) for word in words] \n",
    "    return ' '.join(words)\n",
    "\n",
    "df['cleaned_text'] = df['Text'].apply(clean_text)\n",
    "print(\"Text cleaning completed.\")\n",
    "\n",
    "# Step 5: Vectorization using TF-IDF\n",
    "vectorizer = TfidfVectorizer(max_features=5000)\n",
    "X = vectorizer.fit_transform(df['cleaned_text']).toarray()\n",
    "y = df['Sentiment']  \n",
    "\n",
    "# Step 6: Train-Test Split\n",
    "X_train, X_test, y_train, y_test = train_test_split(X, y, test_size=0.2, random_state=42)\n",
    "print(f\"Data split into train and test sets. Training on {len(X_train)} samples.\")\n",
    "\n",
    "# Step 7: Model Selection and Training\n",
    "model = LogisticRegression()\n",
    "model.fit(X_train, y_train)\n",
    "print(\"Model training completed.\")\n",
    "\n",
    "# Step 8: Model Evaluation\n",
    "y_pred = model.predict(X_test)\n",
    "\n",
    "# Metrics\n",
    "print(\"Accuracy:\", accuracy_score(y_test, y_pred))\n",
    "print(\"Classification Report:\\n\", classification_report(y_test, y_pred))\n",
    "\n",
    "# Confusion Matrix\n",
    "cm = confusion_matrix(y_test, y_pred)\n",
    "plt.figure(figsize=(8, 6))\n",
    "sns.heatmap(cm, annot=True, fmt='d', cmap='Blues', xticklabels=model.classes_, yticklabels=model.classes_)\n",
    "plt.title(\"Confusion Matrix\")\n",
    "plt.xlabel(\"Predicted\")\n",
    "plt.ylabel(\"Actual\")\n",
    "plt.show()"
   ]
  },
  {
   "cell_type": "code",
   "execution_count": null,
   "id": "83382a7d-e83b-4a79-bbcb-ed4c69b95ff3",
   "metadata": {},
   "outputs": [],
   "source": []
  }
 ],
 "metadata": {
  "kernelspec": {
   "display_name": "Python 3 (ipykernel)",
   "language": "python",
   "name": "python3"
  },
  "language_info": {
   "codemirror_mode": {
    "name": "ipython",
    "version": 3
   },
   "file_extension": ".py",
   "mimetype": "text/x-python",
   "name": "python",
   "nbconvert_exporter": "python",
   "pygments_lexer": "ipython3",
   "version": "3.12.7"
  }
 },
 "nbformat": 4,
 "nbformat_minor": 5
}
